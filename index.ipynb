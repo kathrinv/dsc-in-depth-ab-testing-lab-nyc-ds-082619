{
 "cells": [
  {
   "cell_type": "markdown",
   "metadata": {},
   "source": [
    "# In Depth A/B Testing - Lab\n",
    "\n",
    "## Introduction\n",
    "\n",
    "In this lab, you'll explore a survey from Kaggle regarding budding data scientists. With this, you'll form some initial hypotheses, and test them using the tools you've acquired to date. \n",
    "\n",
    "## Objectives\n",
    "\n",
    "You will be able to:\n",
    "* Conduct t-tests and an ANOVA on a real-world dataset and interpret the results"
   ]
  },
  {
   "cell_type": "markdown",
   "metadata": {},
   "source": [
    "## Load the Dataset and Perform a Brief Exploration\n",
    "\n",
    "The data is stored in a file called **multipleChoiceResponses_cleaned.csv**. Feel free to check out the original dataset referenced at the bottom of this lab, although this cleaned version will undoubtedly be easier to work with. Additionally, meta-data regarding the questions is stored in a file name **schema.csv**. Load in the data itself as a Pandas DataFrame, and take a moment to briefly get acquainted with it.\n",
    "\n",
    "> Note: If you can't get the file to load properly, try changing the encoding format as in `encoding='latin1'`"
   ]
  },
  {
   "cell_type": "code",
   "execution_count": 1,
   "metadata": {},
   "outputs": [
    {
     "name": "stderr",
     "output_type": "stream",
     "text": [
      "/opt/conda/envs/learn-env/lib/python3.6/site-packages/IPython/core/interactiveshell.py:3058: DtypeWarning: Columns (1,2,3,4,5,6,7,8,9,10,11,12,13,14,15,16,17,18,19,20,21,22,23,24,25,26,27,28,29,30,31,32,33,34,35,36,37,38,39,40,41,42,43,44,45,46,47,48,49,50,51,52,53,54,55,56,57,58,65,66,67,68,69,70,71,72,73,74,75,76,77,78,79,80,81,82,83,84,85,86,87,88,89,90,91,92,93,94,95,96,97,98,99,100,101,102,103,104,105,106,107,108,109,110,111,112,113,114,115,116,117,118,119,120,121,122,123,124,125,126,127,128,129,130,131,132,133,134,135,136,137,138,139,140,141,142,143,144,145,146,147,148,149,150,151,152,153,154,155,156,157,158,159,160,161,162,163,164,165,172,173,174,175,176,177,178,179,180,181,182,183,184,185,186,187,188,189,190,191,192,193,194,195,196,197,198,199,200,201,202,203,204,205,207,208,209,210,211,212,213,214,215,216,217,218,219,220,221,222,223,224,225,226,227) have mixed types. Specify dtype option on import or set low_memory=False.\n",
      "  interactivity=interactivity, compiler=compiler, result=result)\n"
     ]
    }
   ],
   "source": [
    "#Your code here\n",
    "import pandas as pd\n",
    "df = pd.read_csv('multipleChoiceResponses_cleaned.csv', encoding='latin1')"
   ]
  },
  {
   "cell_type": "code",
   "execution_count": 2,
   "metadata": {},
   "outputs": [
    {
     "data": {
      "text/html": [
       "<div>\n",
       "<style scoped>\n",
       "    .dataframe tbody tr th:only-of-type {\n",
       "        vertical-align: middle;\n",
       "    }\n",
       "\n",
       "    .dataframe tbody tr th {\n",
       "        vertical-align: top;\n",
       "    }\n",
       "\n",
       "    .dataframe thead th {\n",
       "        text-align: right;\n",
       "    }\n",
       "</style>\n",
       "<table border=\"1\" class=\"dataframe\">\n",
       "  <thead>\n",
       "    <tr style=\"text-align: right;\">\n",
       "      <th></th>\n",
       "      <th>GenderSelect</th>\n",
       "      <th>Country</th>\n",
       "      <th>Age</th>\n",
       "      <th>EmploymentStatus</th>\n",
       "      <th>StudentStatus</th>\n",
       "      <th>LearningDataScience</th>\n",
       "      <th>CodeWriter</th>\n",
       "      <th>CareerSwitcher</th>\n",
       "      <th>CurrentJobTitleSelect</th>\n",
       "      <th>TitleFit</th>\n",
       "      <th>...</th>\n",
       "      <th>JobFactorTitle</th>\n",
       "      <th>JobFactorCompanyFunding</th>\n",
       "      <th>JobFactorImpact</th>\n",
       "      <th>JobFactorRemote</th>\n",
       "      <th>JobFactorIndustry</th>\n",
       "      <th>JobFactorLeaderReputation</th>\n",
       "      <th>JobFactorDiversity</th>\n",
       "      <th>JobFactorPublishingOpportunity</th>\n",
       "      <th>exchangeRate</th>\n",
       "      <th>AdjustedCompensation</th>\n",
       "    </tr>\n",
       "  </thead>\n",
       "  <tbody>\n",
       "    <tr>\n",
       "      <td>0</td>\n",
       "      <td>Non-binary, genderqueer, or gender non-conforming</td>\n",
       "      <td>NaN</td>\n",
       "      <td>NaN</td>\n",
       "      <td>Employed full-time</td>\n",
       "      <td>NaN</td>\n",
       "      <td>NaN</td>\n",
       "      <td>Yes</td>\n",
       "      <td>NaN</td>\n",
       "      <td>DBA/Database Engineer</td>\n",
       "      <td>Fine</td>\n",
       "      <td>...</td>\n",
       "      <td>NaN</td>\n",
       "      <td>NaN</td>\n",
       "      <td>NaN</td>\n",
       "      <td>NaN</td>\n",
       "      <td>NaN</td>\n",
       "      <td>NaN</td>\n",
       "      <td>NaN</td>\n",
       "      <td>NaN</td>\n",
       "      <td>NaN</td>\n",
       "      <td>NaN</td>\n",
       "    </tr>\n",
       "    <tr>\n",
       "      <td>1</td>\n",
       "      <td>Female</td>\n",
       "      <td>United States</td>\n",
       "      <td>30.0</td>\n",
       "      <td>Not employed, but looking for work</td>\n",
       "      <td>NaN</td>\n",
       "      <td>NaN</td>\n",
       "      <td>NaN</td>\n",
       "      <td>NaN</td>\n",
       "      <td>NaN</td>\n",
       "      <td>NaN</td>\n",
       "      <td>...</td>\n",
       "      <td>NaN</td>\n",
       "      <td>NaN</td>\n",
       "      <td>NaN</td>\n",
       "      <td>NaN</td>\n",
       "      <td>NaN</td>\n",
       "      <td>Somewhat important</td>\n",
       "      <td>NaN</td>\n",
       "      <td>NaN</td>\n",
       "      <td>NaN</td>\n",
       "      <td>NaN</td>\n",
       "    </tr>\n",
       "    <tr>\n",
       "      <td>2</td>\n",
       "      <td>Male</td>\n",
       "      <td>Canada</td>\n",
       "      <td>28.0</td>\n",
       "      <td>Not employed, but looking for work</td>\n",
       "      <td>NaN</td>\n",
       "      <td>NaN</td>\n",
       "      <td>NaN</td>\n",
       "      <td>NaN</td>\n",
       "      <td>NaN</td>\n",
       "      <td>NaN</td>\n",
       "      <td>...</td>\n",
       "      <td>Very Important</td>\n",
       "      <td>Very Important</td>\n",
       "      <td>Very Important</td>\n",
       "      <td>Very Important</td>\n",
       "      <td>Very Important</td>\n",
       "      <td>Very Important</td>\n",
       "      <td>Very Important</td>\n",
       "      <td>Very Important</td>\n",
       "      <td>NaN</td>\n",
       "      <td>NaN</td>\n",
       "    </tr>\n",
       "    <tr>\n",
       "      <td>3</td>\n",
       "      <td>Male</td>\n",
       "      <td>United States</td>\n",
       "      <td>56.0</td>\n",
       "      <td>Independent contractor, freelancer, or self-em...</td>\n",
       "      <td>NaN</td>\n",
       "      <td>NaN</td>\n",
       "      <td>Yes</td>\n",
       "      <td>NaN</td>\n",
       "      <td>Operations Research Practitioner</td>\n",
       "      <td>Poorly</td>\n",
       "      <td>...</td>\n",
       "      <td>NaN</td>\n",
       "      <td>NaN</td>\n",
       "      <td>NaN</td>\n",
       "      <td>NaN</td>\n",
       "      <td>NaN</td>\n",
       "      <td>NaN</td>\n",
       "      <td>NaN</td>\n",
       "      <td>NaN</td>\n",
       "      <td>1.0</td>\n",
       "      <td>250000.0</td>\n",
       "    </tr>\n",
       "    <tr>\n",
       "      <td>4</td>\n",
       "      <td>Male</td>\n",
       "      <td>Taiwan</td>\n",
       "      <td>38.0</td>\n",
       "      <td>Employed full-time</td>\n",
       "      <td>NaN</td>\n",
       "      <td>NaN</td>\n",
       "      <td>Yes</td>\n",
       "      <td>NaN</td>\n",
       "      <td>Computer Scientist</td>\n",
       "      <td>Fine</td>\n",
       "      <td>...</td>\n",
       "      <td>NaN</td>\n",
       "      <td>NaN</td>\n",
       "      <td>NaN</td>\n",
       "      <td>NaN</td>\n",
       "      <td>NaN</td>\n",
       "      <td>NaN</td>\n",
       "      <td>NaN</td>\n",
       "      <td>NaN</td>\n",
       "      <td>NaN</td>\n",
       "      <td>NaN</td>\n",
       "    </tr>\n",
       "  </tbody>\n",
       "</table>\n",
       "<p>5 rows × 230 columns</p>\n",
       "</div>"
      ],
      "text/plain": [
       "                                        GenderSelect        Country   Age  \\\n",
       "0  Non-binary, genderqueer, or gender non-conforming            NaN   NaN   \n",
       "1                                             Female  United States  30.0   \n",
       "2                                               Male         Canada  28.0   \n",
       "3                                               Male  United States  56.0   \n",
       "4                                               Male         Taiwan  38.0   \n",
       "\n",
       "                                    EmploymentStatus StudentStatus  \\\n",
       "0                                 Employed full-time           NaN   \n",
       "1                 Not employed, but looking for work           NaN   \n",
       "2                 Not employed, but looking for work           NaN   \n",
       "3  Independent contractor, freelancer, or self-em...           NaN   \n",
       "4                                 Employed full-time           NaN   \n",
       "\n",
       "  LearningDataScience CodeWriter CareerSwitcher  \\\n",
       "0                 NaN        Yes            NaN   \n",
       "1                 NaN        NaN            NaN   \n",
       "2                 NaN        NaN            NaN   \n",
       "3                 NaN        Yes            NaN   \n",
       "4                 NaN        Yes            NaN   \n",
       "\n",
       "              CurrentJobTitleSelect TitleFit  ...  JobFactorTitle  \\\n",
       "0             DBA/Database Engineer     Fine  ...             NaN   \n",
       "1                               NaN      NaN  ...             NaN   \n",
       "2                               NaN      NaN  ...  Very Important   \n",
       "3  Operations Research Practitioner   Poorly  ...             NaN   \n",
       "4                Computer Scientist     Fine  ...             NaN   \n",
       "\n",
       "  JobFactorCompanyFunding JobFactorImpact JobFactorRemote JobFactorIndustry  \\\n",
       "0                     NaN             NaN             NaN               NaN   \n",
       "1                     NaN             NaN             NaN               NaN   \n",
       "2          Very Important  Very Important  Very Important    Very Important   \n",
       "3                     NaN             NaN             NaN               NaN   \n",
       "4                     NaN             NaN             NaN               NaN   \n",
       "\n",
       "  JobFactorLeaderReputation JobFactorDiversity JobFactorPublishingOpportunity  \\\n",
       "0                       NaN                NaN                            NaN   \n",
       "1        Somewhat important                NaN                            NaN   \n",
       "2            Very Important     Very Important                 Very Important   \n",
       "3                       NaN                NaN                            NaN   \n",
       "4                       NaN                NaN                            NaN   \n",
       "\n",
       "  exchangeRate AdjustedCompensation  \n",
       "0          NaN                  NaN  \n",
       "1          NaN                  NaN  \n",
       "2          NaN                  NaN  \n",
       "3          1.0             250000.0  \n",
       "4          NaN                  NaN  \n",
       "\n",
       "[5 rows x 230 columns]"
      ]
     },
     "execution_count": 2,
     "metadata": {},
     "output_type": "execute_result"
    }
   ],
   "source": [
    "df.head()"
   ]
  },
  {
   "cell_type": "markdown",
   "metadata": {},
   "source": [
    "## Wages and Education\n",
    "\n",
    "You've been asked to determine whether education is impactful to salary. Develop a hypothesis test to compare the salaries of those with Master's degrees to those with Bachelor's degrees. Are the two statistically different according to your results?\n",
    "\n",
    "> Note: The relevant features are stored in the 'FormalEducation' and 'AdjustedCompensation' features.\n",
    "\n",
    "You may import the functions stored in the `flatiron_stats.py` file to help perform your hypothesis tests. It contains the stats functions that you previously coded: `welch_t(a,b)`, `welch_df(a, b)`, and `p_value(a, b, two_sided=False)`. \n",
    "\n",
    "Note that `scipy.stats.ttest_ind(a, b, equal_var=False)` performs a two-sided Welch's t-test and that p-values derived from two-sided tests are two times the p-values derived from one-sided tests. See the [documentation](https://docs.scipy.org/doc/scipy/reference/generated/scipy.stats.ttest_ind.html) for more information.    "
   ]
  },
  {
   "cell_type": "code",
   "execution_count": 3,
   "metadata": {},
   "outputs": [],
   "source": [
    "#Your code here\n",
    "import flatiron_stats"
   ]
  },
  {
   "cell_type": "code",
   "execution_count": 4,
   "metadata": {},
   "outputs": [],
   "source": [
    "df = df[df['AdjustedCompensation'].isna() == False][['FormalEducation', 'AdjustedCompensation']].reset_index()"
   ]
  },
  {
   "cell_type": "code",
   "execution_count": 5,
   "metadata": {},
   "outputs": [
    {
     "data": {
      "text/html": [
       "<div>\n",
       "<style scoped>\n",
       "    .dataframe tbody tr th:only-of-type {\n",
       "        vertical-align: middle;\n",
       "    }\n",
       "\n",
       "    .dataframe tbody tr th {\n",
       "        vertical-align: top;\n",
       "    }\n",
       "\n",
       "    .dataframe thead th {\n",
       "        text-align: right;\n",
       "    }\n",
       "</style>\n",
       "<table border=\"1\" class=\"dataframe\">\n",
       "  <thead>\n",
       "    <tr style=\"text-align: right;\">\n",
       "      <th></th>\n",
       "      <th>index</th>\n",
       "      <th>AdjustedCompensation</th>\n",
       "    </tr>\n",
       "    <tr>\n",
       "      <th>FormalEducation</th>\n",
       "      <th></th>\n",
       "      <th></th>\n",
       "    </tr>\n",
       "  </thead>\n",
       "  <tbody>\n",
       "    <tr>\n",
       "      <td>Bachelor's degree</td>\n",
       "      <td>1107</td>\n",
       "      <td>1107</td>\n",
       "    </tr>\n",
       "    <tr>\n",
       "      <td>Doctoral degree</td>\n",
       "      <td>967</td>\n",
       "      <td>967</td>\n",
       "    </tr>\n",
       "    <tr>\n",
       "      <td>I did not complete any formal education past high school</td>\n",
       "      <td>30</td>\n",
       "      <td>30</td>\n",
       "    </tr>\n",
       "    <tr>\n",
       "      <td>I prefer not to answer</td>\n",
       "      <td>7</td>\n",
       "      <td>7</td>\n",
       "    </tr>\n",
       "    <tr>\n",
       "      <td>Master's degree</td>\n",
       "      <td>1990</td>\n",
       "      <td>1990</td>\n",
       "    </tr>\n",
       "    <tr>\n",
       "      <td>Professional degree</td>\n",
       "      <td>130</td>\n",
       "      <td>130</td>\n",
       "    </tr>\n",
       "    <tr>\n",
       "      <td>Some college/university study without earning a bachelor's degree</td>\n",
       "      <td>111</td>\n",
       "      <td>111</td>\n",
       "    </tr>\n",
       "  </tbody>\n",
       "</table>\n",
       "</div>"
      ],
      "text/plain": [
       "                                                    index  \\\n",
       "FormalEducation                                             \n",
       "Bachelor's degree                                    1107   \n",
       "Doctoral degree                                       967   \n",
       "I did not complete any formal education past hi...     30   \n",
       "I prefer not to answer                                  7   \n",
       "Master's degree                                      1990   \n",
       "Professional degree                                   130   \n",
       "Some college/university study without earning a...    111   \n",
       "\n",
       "                                                    AdjustedCompensation  \n",
       "FormalEducation                                                           \n",
       "Bachelor's degree                                                   1107  \n",
       "Doctoral degree                                                      967  \n",
       "I did not complete any formal education past hi...                    30  \n",
       "I prefer not to answer                                                 7  \n",
       "Master's degree                                                     1990  \n",
       "Professional degree                                                  130  \n",
       "Some college/university study without earning a...                   111  "
      ]
     },
     "execution_count": 5,
     "metadata": {},
     "output_type": "execute_result"
    }
   ],
   "source": [
    "df.groupby('FormalEducation').count()"
   ]
  },
  {
   "cell_type": "code",
   "execution_count": 6,
   "metadata": {},
   "outputs": [
    {
     "data": {
      "text/html": [
       "<div>\n",
       "<style scoped>\n",
       "    .dataframe tbody tr th:only-of-type {\n",
       "        vertical-align: middle;\n",
       "    }\n",
       "\n",
       "    .dataframe tbody tr th {\n",
       "        vertical-align: top;\n",
       "    }\n",
       "\n",
       "    .dataframe thead th {\n",
       "        text-align: right;\n",
       "    }\n",
       "</style>\n",
       "<table border=\"1\" class=\"dataframe\">\n",
       "  <thead>\n",
       "    <tr style=\"text-align: right;\">\n",
       "      <th></th>\n",
       "      <th>index</th>\n",
       "      <th>AdjustedCompensation</th>\n",
       "    </tr>\n",
       "    <tr>\n",
       "      <th>FormalEducation</th>\n",
       "      <th></th>\n",
       "      <th></th>\n",
       "    </tr>\n",
       "  </thead>\n",
       "  <tbody>\n",
       "    <tr>\n",
       "      <td>Bachelor's degree</td>\n",
       "      <td>9456.712737</td>\n",
       "      <td>6.488710e+04</td>\n",
       "    </tr>\n",
       "    <tr>\n",
       "      <td>Doctoral degree</td>\n",
       "      <td>10606.932782</td>\n",
       "      <td>2.956618e+07</td>\n",
       "    </tr>\n",
       "    <tr>\n",
       "      <td>I did not complete any formal education past high school</td>\n",
       "      <td>8758.266667</td>\n",
       "      <td>5.931777e+04</td>\n",
       "    </tr>\n",
       "    <tr>\n",
       "      <td>I prefer not to answer</td>\n",
       "      <td>9679.142857</td>\n",
       "      <td>2.228557e+05</td>\n",
       "    </tr>\n",
       "    <tr>\n",
       "      <td>Master's degree</td>\n",
       "      <td>9944.296482</td>\n",
       "      <td>6.913990e+04</td>\n",
       "    </tr>\n",
       "    <tr>\n",
       "      <td>Professional degree</td>\n",
       "      <td>10127.792308</td>\n",
       "      <td>6.120670e+04</td>\n",
       "    </tr>\n",
       "    <tr>\n",
       "      <td>Some college/university study without earning a bachelor's degree</td>\n",
       "      <td>8066.099099</td>\n",
       "      <td>8.291218e+04</td>\n",
       "    </tr>\n",
       "  </tbody>\n",
       "</table>\n",
       "</div>"
      ],
      "text/plain": [
       "                                                           index  \\\n",
       "FormalEducation                                                    \n",
       "Bachelor's degree                                    9456.712737   \n",
       "Doctoral degree                                     10606.932782   \n",
       "I did not complete any formal education past hi...   8758.266667   \n",
       "I prefer not to answer                               9679.142857   \n",
       "Master's degree                                      9944.296482   \n",
       "Professional degree                                 10127.792308   \n",
       "Some college/university study without earning a...   8066.099099   \n",
       "\n",
       "                                                    AdjustedCompensation  \n",
       "FormalEducation                                                           \n",
       "Bachelor's degree                                           6.488710e+04  \n",
       "Doctoral degree                                             2.956618e+07  \n",
       "I did not complete any formal education past hi...          5.931777e+04  \n",
       "I prefer not to answer                                      2.228557e+05  \n",
       "Master's degree                                             6.913990e+04  \n",
       "Professional degree                                         6.120670e+04  \n",
       "Some college/university study without earning a...          8.291218e+04  "
      ]
     },
     "execution_count": 6,
     "metadata": {},
     "output_type": "execute_result"
    }
   ],
   "source": [
    "df.groupby('FormalEducation').mean()"
   ]
  },
  {
   "cell_type": "code",
   "execution_count": 7,
   "metadata": {},
   "outputs": [],
   "source": [
    "df_master = df[df['FormalEducation'] == \"Master's degree\"]['AdjustedCompensation']\n",
    "df_bach = df[df['FormalEducation'] == \"Bachelor's degree\"]['AdjustedCompensation']\n",
    "df_doc = df[df['FormalEducation'] == \"Doctoral degree\"]['AdjustedCompensation']"
   ]
  },
  {
   "cell_type": "code",
   "execution_count": 8,
   "metadata": {},
   "outputs": [
    {
     "data": {
      "text/plain": [
       "(1990,)"
      ]
     },
     "execution_count": 8,
     "metadata": {},
     "output_type": "execute_result"
    }
   ],
   "source": [
    "df_master.shape"
   ]
  },
  {
   "cell_type": "code",
   "execution_count": 9,
   "metadata": {},
   "outputs": [
    {
     "data": {
      "text/plain": [
       "(1107,)"
      ]
     },
     "execution_count": 9,
     "metadata": {},
     "output_type": "execute_result"
    }
   ],
   "source": [
    "df_bach.shape"
   ]
  },
  {
   "cell_type": "code",
   "execution_count": 10,
   "metadata": {},
   "outputs": [
    {
     "data": {
      "text/plain": [
       "(967,)"
      ]
     },
     "execution_count": 10,
     "metadata": {},
     "output_type": "execute_result"
    }
   ],
   "source": [
    "df_doc.shape"
   ]
  },
  {
   "cell_type": "code",
   "execution_count": 11,
   "metadata": {},
   "outputs": [
    {
     "data": {
      "text/plain": [
       "0.43786693335411514"
      ]
     },
     "execution_count": 11,
     "metadata": {},
     "output_type": "execute_result"
    }
   ],
   "source": [
    "flatiron_stats.welch_t(df_master, df_bach)"
   ]
  },
  {
   "cell_type": "code",
   "execution_count": 12,
   "metadata": {},
   "outputs": [
    {
     "data": {
      "text/plain": [
       "1350.0828973008781"
      ]
     },
     "execution_count": 12,
     "metadata": {},
     "output_type": "execute_result"
    }
   ],
   "source": [
    "flatiron_stats.welch_df(df_master, df_bach)"
   ]
  },
  {
   "cell_type": "code",
   "execution_count": 22,
   "metadata": {},
   "outputs": [
    {
     "data": {
      "text/plain": [
       "0.33077639451272445"
      ]
     },
     "execution_count": 22,
     "metadata": {},
     "output_type": "execute_result"
    }
   ],
   "source": [
    "flatiron_stats.p_value_welch_ttest(df_master, df_bach, two_sided=False)"
   ]
  },
  {
   "cell_type": "code",
   "execution_count": 14,
   "metadata": {},
   "outputs": [
    {
     "data": {
      "text/plain": [
       "Ttest_indResult(statistic=0.43786693335411514, pvalue=0.6615527890254489)"
      ]
     },
     "execution_count": 14,
     "metadata": {},
     "output_type": "execute_result"
    }
   ],
   "source": [
    "import scipy\n",
    "scipy.stats.ttest_ind(df_master, df_bach, equal_var=False) "
   ]
  },
  {
   "cell_type": "code",
   "execution_count": 18,
   "metadata": {},
   "outputs": [
    {
     "name": "stdout",
     "output_type": "stream",
     "text": [
      "Median Values: \n",
      "s1:74131.92 \n",
      "s2:38399.4\n",
      "Sample sizes: \n",
      "s1: 967 \n",
      "s2: 1107\n",
      "Welch's t-test p-value: 0.15682381994720251\n",
      "\n",
      "\n",
      "Repeated Test with Ouliers Removed:\n",
      "Sample sizes: \n",
      "s1: 964 \n",
      "s2: 1103\n",
      "Welch's t-test p-value with outliers removed: 0.0\n"
     ]
    }
   ],
   "source": [
    "import flatiron_stats as fs\n",
    "f1 = 'FormalEducation'\n",
    "f2 = 'AdjustedCompensation'\n",
    "subset = df[(~df[f1].isnull()) & (~df[f2].isnull())]\n",
    "s1 = subset[subset[f1]==\"Doctoral degree\"][f2]\n",
    "s2 = subset[subset[f1]==\"Bachelor's degree\"][f2]\n",
    "print(\"Median Values: \\ns1:{} \\ns2:{}\".format(round(s1.median(),2), round(s2.median(),2)))\n",
    "print('Sample sizes: \\ns1: {} \\ns2: {}'.format(len(s1), len(s2)))\n",
    "print(\"Welch's t-test p-value:\", fs.p_value_welch_ttest(s1, s2))\n",
    "\n",
    "print('\\n\\nRepeated Test with Ouliers Removed:')\n",
    "outlier_threshold = 500000\n",
    "s1 = subset[(subset[f1]==\"Doctoral degree\") & (subset[f2]<=outlier_threshold)][f2]\n",
    "s2 = subset[(subset[f1]==\"Bachelor's degree\") & (subset[f2]<=outlier_threshold)][f2]\n",
    "print('Sample sizes: \\ns1: {} \\ns2: {}'.format(len(s1), len(s2)))\n",
    "print(\"Welch's t-test p-value with outliers removed:\", fs.p_value_welch_ttest(s1, s2))"
   ]
  },
  {
   "cell_type": "code",
   "execution_count": null,
   "metadata": {},
   "outputs": [],
   "source": []
  },
  {
   "cell_type": "markdown",
   "metadata": {},
   "source": [
    "## Wages and Education II\n",
    "\n",
    "Now perform a similar statistical test comparing the AdjustedCompensation of those with Bachelor's degrees and those with Doctorates. If you haven't already, be sure to explore the distribution of the AdjustedCompensation feature for any anomalies. "
   ]
  },
  {
   "cell_type": "code",
   "execution_count": 15,
   "metadata": {},
   "outputs": [
    {
     "data": {
      "text/plain": [
       "64887.097994618794"
      ]
     },
     "execution_count": 15,
     "metadata": {},
     "output_type": "execute_result"
    }
   ],
   "source": [
    "#Your code here\n",
    "df_bach.mean()"
   ]
  },
  {
   "cell_type": "code",
   "execution_count": 37,
   "metadata": {},
   "outputs": [
    {
     "data": {
      "text/plain": [
       "29566175.762453098"
      ]
     },
     "execution_count": 37,
     "metadata": {},
     "output_type": "execute_result"
    }
   ],
   "source": [
    "df_doc.mean()"
   ]
  },
  {
   "cell_type": "code",
   "execution_count": 23,
   "metadata": {},
   "outputs": [
    {
     "name": "stdout",
     "output_type": "stream",
     "text": [
      "                          sum_sq      df         F    PR(>F)\n",
      "C(FormalEducation)  6.540294e+17     6.0  0.590714  0.738044\n",
      "Residual            7.999414e+20  4335.0       NaN       NaN\n"
     ]
    }
   ],
   "source": []
  },
  {
   "cell_type": "code",
   "execution_count": 24,
   "metadata": {},
   "outputs": [
    {
     "name": "stdout",
     "output_type": "stream",
     "text": [
      "                          sum_sq      df          F        PR(>F)\n",
      "C(FormalEducation)  5.841881e+11     6.0  29.224224  1.727132e-34\n",
      "Residual            1.439270e+13  4320.0        NaN           NaN\n"
     ]
    }
   ],
   "source": []
  },
  {
   "cell_type": "markdown",
   "metadata": {},
   "source": [
    "## Wages and Education III\n",
    "\n",
    "Remember the multiple comparisons problem; rather than continuing on like this, perform an ANOVA test between the various 'FormalEducation' categories and their relation to 'AdjustedCompensation'."
   ]
  },
  {
   "cell_type": "code",
   "execution_count": 26,
   "metadata": {},
   "outputs": [
    {
     "name": "stdout",
     "output_type": "stream",
     "text": [
      "                          sum_sq      df         F    PR(>F)\n",
      "C(FormalEducation)  6.540294e+17     6.0  0.590714  0.738044\n",
      "Residual            7.999414e+20  4335.0       NaN       NaN\n"
     ]
    }
   ],
   "source": [
    "#Perform ANOVA here\n",
    "import statsmodels.api as sm\n",
    "from statsmodels.formula.api import ols\n",
    "\n",
    "formula = '{} ~ C({})'.format(f2, f1)\n",
    "lm = ols(formula, df).fit()\n",
    "table = sm.stats.anova_lm(lm, typ=2)\n",
    "print(table)"
   ]
  },
  {
   "cell_type": "code",
   "execution_count": 25,
   "metadata": {},
   "outputs": [
    {
     "name": "stdout",
     "output_type": "stream",
     "text": [
      "                          sum_sq      df          F        PR(>F)\n",
      "C(FormalEducation)  5.841881e+11     6.0  29.224224  1.727132e-34\n",
      "Residual            1.439270e+13  4320.0        NaN           NaN\n"
     ]
    }
   ],
   "source": [
    "temp = df[df[f2]<=5*10**5]\n",
    "formula = '{} ~ C({})'.format(f2, f1)\n",
    "lm = ols(formula, temp).fit()\n",
    "table = sm.stats.anova_lm(lm, typ=2)\n",
    "print(table)"
   ]
  },
  {
   "cell_type": "markdown",
   "metadata": {},
   "source": [
    "## Additional Resources\n",
    "\n",
    "Here's the original source where the data was taken from:  \n",
    "    [Kaggle Machine Learning & Data Science Survey 2017](https://www.kaggle.com/kaggle/kaggle-survey-2017)"
   ]
  },
  {
   "cell_type": "markdown",
   "metadata": {},
   "source": [
    "## Summary\n",
    "\n",
    "In this lab, you practiced conducting actual hypothesis tests on actual data. From this, you saw how dependent results can be on the initial problem formulation, including preprocessing!"
   ]
  }
 ],
 "metadata": {
  "kernelspec": {
   "display_name": "Python 3",
   "language": "python",
   "name": "python3"
  },
  "language_info": {
   "codemirror_mode": {
    "name": "ipython",
    "version": 3
   },
   "file_extension": ".py",
   "mimetype": "text/x-python",
   "name": "python",
   "nbconvert_exporter": "python",
   "pygments_lexer": "ipython3",
   "version": "3.6.9"
  },
  "toc": {
   "base_numbering": 1,
   "nav_menu": {},
   "number_sections": true,
   "sideBar": true,
   "skip_h1_title": false,
   "title_cell": "Table of Contents",
   "title_sidebar": "Contents",
   "toc_cell": false,
   "toc_position": {},
   "toc_section_display": true,
   "toc_window_display": false
  }
 },
 "nbformat": 4,
 "nbformat_minor": 2
}
